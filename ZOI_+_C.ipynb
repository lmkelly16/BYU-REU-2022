{
  "nbformat": 4,
  "nbformat_minor": 0,
  "metadata": {
    "colab": {
      "name": "ZOI + C.ipynb",
      "provenance": [],
      "authorship_tag": "ABX9TyM4yBn/oRnm1yPNOLptCn0R",
      "include_colab_link": true
    },
    "kernelspec": {
      "name": "python3",
      "display_name": "Python 3"
    },
    "language_info": {
      "name": "python"
    }
  },
  "cells": [
    {
      "cell_type": "markdown",
      "metadata": {
        "id": "view-in-github",
        "colab_type": "text"
      },
      "source": [
        "<a href=\"https://colab.research.google.com/github/lmkelly16/BYU-REU-2022/blob/main/ZOI_%2B_C.ipynb\" target=\"_parent\"><img src=\"https://colab.research.google.com/assets/colab-badge.svg\" alt=\"Open In Colab\"/></a>"
      ]
    },
    {
      "cell_type": "code",
      "execution_count": 2,
      "metadata": {
        "colab": {
          "base_uri": "https://localhost:8080/"
        },
        "id": "tvQ39Ck4oOOD",
        "outputId": "c5826f6b-1791-42c2-8b85-c5c83fd52930"
      },
      "outputs": [
        {
          "output_type": "stream",
          "name": "stdout",
          "text": [
            "Mounted at /content/drive\n"
          ]
        }
      ],
      "source": [
        "#Imports\n",
        "import pandas as pd\n",
        "import numpy as np\n",
        "import glob\n",
        "import gdal\n",
        "\n",
        "# Our image processing tools\n",
        "import skimage.filters\n",
        "import skimage.io\n",
        "import skimage.morphology\n",
        "\n",
        "# plotting libraries\n",
        "import matplotlib.pyplot as plt\n",
        "import seaborn as sn\n",
        "\n",
        "from google.colab import drive\n",
        "drive.mount('/content/drive')"
      ]
    },
    {
      "cell_type": "code",
      "source": [
        "#import it\n",
        "img_list = glob.glob('/content/drive/MyDrive/BYU_REU_images/*Z_+_C.tiff')\n",
        "\n",
        "#sort it\n",
        "img_list = np.sort(img_list)\n",
        "\n",
        "#check to make sure it looks right\n",
        "img_list"
      ],
      "metadata": {
        "colab": {
          "base_uri": "https://localhost:8080/"
        },
        "id": "-TMrFT9HpdEr",
        "outputId": "58eaa200-2f71-413b-92aa-fcae966a86a1"
      },
      "execution_count": 3,
      "outputs": [
        {
          "output_type": "execute_result",
          "data": {
            "text/plain": [
              "array(['/content/drive/MyDrive/BYU_REU_images/1Z_+_C.tiff',\n",
              "       '/content/drive/MyDrive/BYU_REU_images/2Z_+_C.tiff'], dtype='<U49')"
            ]
          },
          "metadata": {},
          "execution_count": 3
        }
      ]
    }
  ]
}