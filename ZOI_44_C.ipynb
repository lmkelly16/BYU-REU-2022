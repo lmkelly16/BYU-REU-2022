{
  "nbformat": 4,
  "nbformat_minor": 0,
  "metadata": {
    "colab": {
      "name": "ZOI 44 C.ipynb",
      "provenance": [],
      "authorship_tag": "ABX9TyPxg7t96MzYef410azUE+UY",
      "include_colab_link": true
    },
    "kernelspec": {
      "name": "python3",
      "display_name": "Python 3"
    },
    "language_info": {
      "name": "python"
    }
  },
  "cells": [
    {
      "cell_type": "markdown",
      "metadata": {
        "id": "view-in-github",
        "colab_type": "text"
      },
      "source": [
        "<a href=\"https://colab.research.google.com/github/lmkelly16/BYU-REU-2022/blob/main/ZOI_44_C.ipynb\" target=\"_parent\"><img src=\"https://colab.research.google.com/assets/colab-badge.svg\" alt=\"Open In Colab\"/></a>"
      ]
    },
    {
      "cell_type": "code",
      "source": [
        "#Imports\n",
        "import pandas as pd\n",
        "import numpy as np\n",
        "import glob\n",
        "import gdal\n",
        "\n",
        "# Our image processing tools\n",
        "import skimage.filters\n",
        "import skimage.io\n",
        "import skimage.morphology\n",
        "\n",
        "# plotting libraries\n",
        "import matplotlib.pyplot as plt\n",
        "import seaborn as sn"
      ],
      "metadata": {
        "id": "L7DJrNFyosGq"
      },
      "execution_count": 1,
      "outputs": []
    },
    {
      "cell_type": "code",
      "source": [
        "from google.colab import drive\n",
        "drive.mount('/content/drive')"
      ],
      "metadata": {
        "colab": {
          "base_uri": "https://localhost:8080/"
        },
        "id": "pIpyCAxIowxT",
        "outputId": "6f9ff779-5962-428b-8844-a521e7a5a53d"
      },
      "execution_count": 2,
      "outputs": [
        {
          "output_type": "stream",
          "name": "stdout",
          "text": [
            "Mounted at /content/drive\n"
          ]
        }
      ]
    },
    {
      "cell_type": "code",
      "execution_count": 7,
      "metadata": {
        "colab": {
          "base_uri": "https://localhost:8080/"
        },
        "id": "bBeCgM-xodTw",
        "outputId": "f62e855e-222f-4144-8ce9-499785caf2b5"
      },
      "outputs": [
        {
          "output_type": "execute_result",
          "data": {
            "text/plain": [
              "array(['/content/drive/MyDrive/BYU_REU_images/1Z_44_A.tiff',\n",
              "       '/content/drive/MyDrive/BYU_REU_images/2Z_44_A.tiff'], dtype='<U50')"
            ]
          },
          "metadata": {},
          "execution_count": 7
        }
      ],
      "source": [
        "#import it\n",
        "img_list = glob.glob('/content/drive/MyDrive/BYU_REU_images/*Z_44_A.tiff')\n",
        "\n",
        "#sort it\n",
        "img_list = np.sort(img_list)\n",
        "\n",
        "#check to make sure it looks right\n",
        "img_list"
      ]
    }
  ]
}