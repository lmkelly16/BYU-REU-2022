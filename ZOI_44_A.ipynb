{
  "nbformat": 4,
  "nbformat_minor": 0,
  "metadata": {
    "colab": {
      "name": "ZOI 44 A.ipynb",
      "provenance": [],
      "authorship_tag": "ABX9TyNIR71JLsebd+PGVlxYQmhb",
      "include_colab_link": true
    },
    "kernelspec": {
      "name": "python3",
      "display_name": "Python 3"
    },
    "language_info": {
      "name": "python"
    }
  },
  "cells": [
    {
      "cell_type": "markdown",
      "metadata": {
        "id": "view-in-github",
        "colab_type": "text"
      },
      "source": [
        "<a href=\"https://colab.research.google.com/github/lmkelly16/BYU-REU-2022/blob/main/ZOI_44_A.ipynb\" target=\"_parent\"><img src=\"https://colab.research.google.com/assets/colab-badge.svg\" alt=\"Open In Colab\"/></a>"
      ]
    },
    {
      "cell_type": "code",
      "execution_count": 2,
      "metadata": {
        "colab": {
          "base_uri": "https://localhost:8080/"
        },
        "id": "oA57cHi0oU06",
        "outputId": "c6f8e236-b67b-4527-802b-da1ffc89971d"
      },
      "outputs": [
        {
          "output_type": "stream",
          "name": "stdout",
          "text": [
            "Drive already mounted at /content/drive; to attempt to forcibly remount, call drive.mount(\"/content/drive\", force_remount=True).\n"
          ]
        }
      ],
      "source": [
        "#Imports\n",
        "import pandas as pd\n",
        "import numpy as np\n",
        "import glob\n",
        "import gdal\n",
        "\n",
        "# Our image processing tools\n",
        "import skimage.filters\n",
        "import skimage.io\n",
        "import skimage.morphology\n",
        "\n",
        "# plotting libraries\n",
        "import matplotlib.pyplot as plt\n",
        "import seaborn as sn\n",
        "\n",
        "from google.colab import drive\n",
        "drive.mount('/content/drive')"
      ]
    },
    {
      "cell_type": "code",
      "source": [
        "#import it\n",
        "img_list = glob.glob('/content/drive/MyDrive/BYU_REU_images/*Z_44_A.tiff')\n",
        "\n",
        "#sort it\n",
        "img_list = np.sort(img_list)\n",
        "\n",
        "#check to make sure it looks right\n",
        "img_list"
      ],
      "metadata": {
        "colab": {
          "base_uri": "https://localhost:8080/"
        },
        "id": "xfgasJl8qOkv",
        "outputId": "b63453cf-cd40-4cf0-a16e-955b52340d04"
      },
      "execution_count": 3,
      "outputs": [
        {
          "output_type": "execute_result",
          "data": {
            "text/plain": [
              "array(['/content/drive/MyDrive/BYU_REU_images/1Z_44_A.tiff',\n",
              "       '/content/drive/MyDrive/BYU_REU_images/2Z_44_A.tiff'], dtype='<U50')"
            ]
          },
          "metadata": {},
          "execution_count": 3
        }
      ]
    }
  ]
}