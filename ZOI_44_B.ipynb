{
  "nbformat": 4,
  "nbformat_minor": 0,
  "metadata": {
    "colab": {
      "name": "ZOI 44 B.ipynb",
      "provenance": [],
      "authorship_tag": "ABX9TyNkTCN/dpAT2I+d4LvgO9sR",
      "include_colab_link": true
    },
    "kernelspec": {
      "name": "python3",
      "display_name": "Python 3"
    },
    "language_info": {
      "name": "python"
    }
  },
  "cells": [
    {
      "cell_type": "markdown",
      "metadata": {
        "id": "view-in-github",
        "colab_type": "text"
      },
      "source": [
        "<a href=\"https://colab.research.google.com/github/lmkelly16/BYU-REU-2022/blob/main/ZOI_44_B.ipynb\" target=\"_parent\"><img src=\"https://colab.research.google.com/assets/colab-badge.svg\" alt=\"Open In Colab\"/></a>"
      ]
    },
    {
      "cell_type": "code",
      "execution_count": 2,
      "metadata": {
        "id": "H9XJMCE2oY5_",
        "colab": {
          "base_uri": "https://localhost:8080/"
        },
        "outputId": "3631311c-7028-4ec1-f035-1b78403b9d59"
      },
      "outputs": [
        {
          "output_type": "stream",
          "name": "stdout",
          "text": [
            "Mounted at /content/drive\n"
          ]
        }
      ],
      "source": [
        "# Imports\n",
        "import pandas as pd\n",
        "import numpy as np\n",
        "import glob\n",
        "import gdal\n",
        "\n",
        "# Our image processing tools\n",
        "import skimage.filters\n",
        "import skimage.io\n",
        "import skimage.morphology\n",
        "\n",
        "# plotting libraries\n",
        "import matplotlib.pyplot as plt\n",
        "import seaborn as sn\n",
        "\n",
        "from google.colab import drive\n",
        "drive.mount('/content/drive')"
      ]
    },
    {
      "cell_type": "code",
      "source": [
        "#import it\n",
        "img_list = glob.glob('/content/drive/MyDrive/BYU_REU_images/*Z_44_B.tiff')\n",
        "\n",
        "#sort it\n",
        "img_list = np.sort(img_list)\n",
        "\n",
        "#check to make sure it looks right\n",
        "img_list"
      ],
      "metadata": {
        "id": "sjPK0ot7qUVX",
        "colab": {
          "base_uri": "https://localhost:8080/"
        },
        "outputId": "fa9c0358-d38f-42ab-da8b-845436501e05"
      },
      "execution_count": 3,
      "outputs": [
        {
          "output_type": "execute_result",
          "data": {
            "text/plain": [
              "array(['/content/drive/MyDrive/BYU_REU_images/1Z_44_B.tiff',\n",
              "       '/content/drive/MyDrive/BYU_REU_images/2Z_44_B.tiff'], dtype='<U50')"
            ]
          },
          "metadata": {},
          "execution_count": 3
        }
      ]
    }
  ]
}