{
  "nbformat": 4,
  "nbformat_minor": 0,
  "metadata": {
    "colab": {
      "name": "all the loops.ipynb",
      "provenance": [],
      "authorship_tag": "ABX9TyPD0LQIlnmmfwGmb9FI4vQa",
      "include_colab_link": true
    },
    "kernelspec": {
      "name": "python3",
      "display_name": "Python 3"
    },
    "language_info": {
      "name": "python"
    }
  },
  "cells": [
    {
      "cell_type": "markdown",
      "metadata": {
        "id": "view-in-github",
        "colab_type": "text"
      },
      "source": [
        "<a href=\"https://colab.research.google.com/github/lmkelly16/BYU-REU-2022/blob/main/all_the_loops.ipynb\" target=\"_parent\"><img src=\"https://colab.research.google.com/assets/colab-badge.svg\" alt=\"Open In Colab\"/></a>"
      ]
    },
    {
      "cell_type": "code",
      "execution_count": 1,
      "metadata": {
        "colab": {
          "base_uri": "https://localhost:8080/"
        },
        "id": "ZCr9FI69BEA8",
        "outputId": "a629f8b6-85a4-4856-aaf5-7cfeff777ff8"
      },
      "outputs": [
        {
          "output_type": "stream",
          "name": "stdout",
          "text": [
            "Mounted at /content/drive\n"
          ]
        }
      ],
      "source": [
        "# Imports\n",
        "import pandas as pd\n",
        "import numpy as np\n",
        "import glob\n",
        "import gdal\n",
        "\n",
        "# Our image processing tools\n",
        "import skimage.filters\n",
        "import skimage.io\n",
        "import skimage.morphology\n",
        "\n",
        "# plotting libraries\n",
        "import matplotlib.pyplot as plt\n",
        "import seaborn as sn\n",
        "\n",
        "from google.colab import drive\n",
        "drive.mount('/content/drive')"
      ]
    },
    {
      "cell_type": "markdown",
      "source": [
        "Importing files for images\n",
        "c = controls\n",
        "d = drug"
      ],
      "metadata": {
        "id": "wAxuWpbZB1iS"
      }
    },
    {
      "cell_type": "code",
      "source": [
        "#import it\n",
        "img_list_cA = glob.glob('/content/drive/MyDrive/BYU_REU_images/*Z+A.tiff')\n",
        "\n",
        "#sort it\n",
        "img_list_cA= np.sort(img_list_cA)\n",
        "\n",
        "#check to make sure it looks right\n",
        "#img_list_cA"
      ],
      "metadata": {
        "id": "5eafccy1BQFz"
      },
      "execution_count": 10,
      "outputs": []
    },
    {
      "cell_type": "code",
      "source": [
        "#import it\n",
        "img_list_cB = glob.glob('/content/drive/MyDrive/BYU_REU_images/*Z+B.tiff')\n",
        "\n",
        "#sort it\n",
        "img_list_cB= np.sort(img_list_cB)\n",
        "\n",
        "#check to make sure it looks right\n",
        "#img_list_cB"
      ],
      "metadata": {
        "id": "0_sie3nmBd64"
      },
      "execution_count": 11,
      "outputs": []
    },
    {
      "cell_type": "code",
      "source": [
        "#import it\n",
        "img_list_cC = glob.glob('/content/drive/MyDrive/BYU_REU_images/*Z+C.tiff')\n",
        "\n",
        "#sort it\n",
        "img_list_cC= np.sort(img_list_cC)\n",
        "\n",
        "#check to make sure it looks right\n",
        "#img_list_cC"
      ],
      "metadata": {
        "id": "zxwnJkLFBeOq"
      },
      "execution_count": 12,
      "outputs": []
    },
    {
      "cell_type": "code",
      "source": [
        "#import it\n",
        "img_list_dA = glob.glob('/content/drive/MyDrive/BYU_REU_images/*Z44A.tiff')\n",
        "\n",
        "#sort it\n",
        "img_list_dA= np.sort(img_list_dA)\n",
        "\n",
        "#check to make sure it looks right\n",
        "#img_list_dA"
      ],
      "metadata": {
        "id": "cdCxbGPyBeiu"
      },
      "execution_count": 13,
      "outputs": []
    },
    {
      "cell_type": "code",
      "source": [
        "#import it\n",
        "img_list_dB = glob.glob('/content/drive/MyDrive/BYU_REU_images/*Z44B.tiff')\n",
        "\n",
        "#sort it\n",
        "img_list_dB= np.sort(img_list_dB)\n",
        "\n",
        "#check to make sure it looks right\n",
        "#img_list_dB"
      ],
      "metadata": {
        "id": "xOrcXJhWBeym"
      },
      "execution_count": 14,
      "outputs": []
    },
    {
      "cell_type": "code",
      "source": [
        "#import it\n",
        "img_list_dC = glob.glob('/content/drive/MyDrive/BYU_REU_images/*Z44C.tiff')\n",
        "\n",
        "#sort it\n",
        "img_list_dC= np.sort(img_list_dC)\n",
        "\n",
        "#check to make sure it looks right\n",
        "#img_list_dC"
      ],
      "metadata": {
        "id": "_pmGKvSyBe_G"
      },
      "execution_count": 15,
      "outputs": []
    },
    {
      "cell_type": "markdown",
      "source": [
        "Area lists for each set of images"
      ],
      "metadata": {
        "id": "Cm64tMIoCGd4"
      }
    },
    {
      "cell_type": "code",
      "source": [
        "''' Control A '''\n",
        "\n",
        "area_list=[]\n",
        "zone_area_list_cA=[]\n",
        "\n",
        "for i in range(len(img_list_cA)):\n",
        "  \n",
        "  # Load the phase contrast image.\n",
        "  im = skimage.io.imread(img_list_cA[i])\n",
        "  cim = im[:,:,0]\n",
        "\n",
        "  # Threshold value, as obtained by eye\n",
        "  im_thresh = 35\n",
        "\n",
        "  # Generate thresholded image\n",
        "  im_bw = cim < im_thresh\n",
        "\n",
        "  # labels whatever you segmented out (bacteria for example)\n",
        "  labeled = skimage.measure.label(im_bw)\n",
        "\n",
        "  #make an area list wheeeee!\n",
        "  for i in range(len(labeled)):\n",
        "    bacteria = (labeled == i)\n",
        "    area=bacteria.sum()\n",
        "    area_list.append(area)\n",
        "\n",
        "  for i in area_list:\n",
        "    if i > 5000 and i < 300000:\n",
        "      zone_area_list_cA.append(i)\n",
        "\n",
        "zone_area_list_cA"
      ],
      "metadata": {
        "colab": {
          "base_uri": "https://localhost:8080/"
        },
        "id": "ZOPnn5XVCKNr",
        "outputId": "2f20a13f-eb71-410c-c4fb-cb41fc5e412a"
      },
      "execution_count": 17,
      "outputs": [
        {
          "output_type": "execute_result",
          "data": {
            "text/plain": [
              "[121583, 121583, 167754]"
            ]
          },
          "metadata": {},
          "execution_count": 17
        }
      ]
    },
    {
      "cell_type": "code",
      "source": [
        "''' Drug B '''\n",
        "\n",
        "area_list=[]\n",
        "zone_area_list_dB=[]\n",
        "\n",
        "for i in range(len(img_list_dB)):\n",
        "  \n",
        "  # Load the phase contrast image.\n",
        "  im = skimage.io.imread(img_list_dB[i])\n",
        "  cim = im[:,:,0]\n",
        "\n",
        "  # Threshold value, as obtained by eye\n",
        "  im_thresh = 27\n",
        "\n",
        "  # Generate thresholded image\n",
        "  im_bw = cim < im_thresh\n",
        "\n",
        "  # labels whatever you segmented out (bacteria for example)\n",
        "  labeled = skimage.measure.label(im_bw)\n",
        "\n",
        "  #make an area list wheeeee!\n",
        "  for i in range(len(labeled)):\n",
        "    bacteria = (labeled == i)\n",
        "    area=bacteria.sum()\n",
        "    area_list.append(area)\n",
        "\n",
        "  for i in area_list:\n",
        "    if i > 5000 and i < 300000:\n",
        "      zone_area_list_dB.append(i)\n",
        "\n",
        "zone_area_list_dB"
      ],
      "metadata": {
        "colab": {
          "base_uri": "https://localhost:8080/"
        },
        "id": "mlIN9lGCCYtx",
        "outputId": "5fa785fe-17e5-4303-c296-4a22a432a87a"
      },
      "execution_count": 18,
      "outputs": [
        {
          "output_type": "execute_result",
          "data": {
            "text/plain": [
              "[186194, 186194, 189611]"
            ]
          },
          "metadata": {},
          "execution_count": 18
        }
      ]
    }
  ]
}